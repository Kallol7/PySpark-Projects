{
 "cells": [
  {
   "cell_type": "code",
   "execution_count": 1,
   "metadata": {},
   "outputs": [],
   "source": [
    "import pandas as pd\n",
    "from pyspark.sql import SparkSession"
   ]
  },
  {
   "cell_type": "code",
   "execution_count": 2,
   "metadata": {},
   "outputs": [],
   "source": [
    "# there is a bug, causing error during first call\n",
    "try:\n",
    "    from pyspark.ml.feature import Imputer\n",
    "except:\n",
    "    pass\n",
    "from pyspark.ml.feature import Imputer"
   ]
  },
  {
   "cell_type": "code",
   "execution_count": 3,
   "metadata": {},
   "outputs": [
    {
     "data": {
      "text/html": [
       "<div>\n",
       "<style scoped>\n",
       "    .dataframe tbody tr th:only-of-type {\n",
       "        vertical-align: middle;\n",
       "    }\n",
       "\n",
       "    .dataframe tbody tr th {\n",
       "        vertical-align: top;\n",
       "    }\n",
       "\n",
       "    .dataframe thead th {\n",
       "        text-align: right;\n",
       "    }\n",
       "</style>\n",
       "<table border=\"1\" class=\"dataframe\">\n",
       "  <thead>\n",
       "    <tr style=\"text-align: right;\">\n",
       "      <th></th>\n",
       "      <th>Name</th>\n",
       "      <th>Age</th>\n",
       "      <th>Experience</th>\n",
       "    </tr>\n",
       "  </thead>\n",
       "  <tbody>\n",
       "    <tr>\n",
       "      <th>0</th>\n",
       "      <td>Milana Parks</td>\n",
       "      <td>30.0</td>\n",
       "      <td>7.0</td>\n",
       "    </tr>\n",
       "    <tr>\n",
       "      <th>1</th>\n",
       "      <td>Bodie Barton</td>\n",
       "      <td>22.0</td>\n",
       "      <td>12.0</td>\n",
       "    </tr>\n",
       "    <tr>\n",
       "      <th>2</th>\n",
       "      <td>Foster Weeks</td>\n",
       "      <td>45.0</td>\n",
       "      <td>3.0</td>\n",
       "    </tr>\n",
       "    <tr>\n",
       "      <th>3</th>\n",
       "      <td>Joshua Meyers</td>\n",
       "      <td>NaN</td>\n",
       "      <td>22.0</td>\n",
       "    </tr>\n",
       "    <tr>\n",
       "      <th>4</th>\n",
       "      <td>Rayna Ortiz</td>\n",
       "      <td>NaN</td>\n",
       "      <td>NaN</td>\n",
       "    </tr>\n",
       "    <tr>\n",
       "      <th>5</th>\n",
       "      <td>NaN</td>\n",
       "      <td>NaN</td>\n",
       "      <td>NaN</td>\n",
       "    </tr>\n",
       "    <tr>\n",
       "      <th>6</th>\n",
       "      <td>NaN</td>\n",
       "      <td>99.0</td>\n",
       "      <td>NaN</td>\n",
       "    </tr>\n",
       "    <tr>\n",
       "      <th>7</th>\n",
       "      <td>Paxton Velasquez</td>\n",
       "      <td>NaN</td>\n",
       "      <td>8.0</td>\n",
       "    </tr>\n",
       "  </tbody>\n",
       "</table>\n",
       "</div>"
      ],
      "text/plain": [
       "               Name   Age  Experience\n",
       "0      Milana Parks  30.0         7.0\n",
       "1      Bodie Barton  22.0        12.0\n",
       "2      Foster Weeks  45.0         3.0\n",
       "3     Joshua Meyers   NaN        22.0\n",
       "4       Rayna Ortiz   NaN         NaN\n",
       "5               NaN   NaN         NaN\n",
       "6               NaN  99.0         NaN\n",
       "7  Paxton Velasquez   NaN         8.0"
      ]
     },
     "execution_count": 3,
     "metadata": {},
     "output_type": "execute_result"
    }
   ],
   "source": [
    "pd.read_csv(\"test1.csv\")"
   ]
  },
  {
   "cell_type": "code",
   "execution_count": 4,
   "metadata": {},
   "outputs": [],
   "source": [
    "# use spark.stop() to stop it later\n",
    "spark = SparkSession.builder.appName('ss1').getOrCreate()"
   ]
  },
  {
   "cell_type": "code",
   "execution_count": 5,
   "metadata": {},
   "outputs": [
    {
     "data": {
      "text/html": [
       "\n",
       "            <div>\n",
       "                <p><b>SparkSession - in-memory</b></p>\n",
       "                \n",
       "        <div>\n",
       "            <p><b>SparkContext</b></p>\n",
       "\n",
       "            <p><a href=\"http://DESKTOP-GOTDSM1.mshome.net:4040\">Spark UI</a></p>\n",
       "\n",
       "            <dl>\n",
       "              <dt>Version</dt>\n",
       "                <dd><code>v3.5.0</code></dd>\n",
       "              <dt>Master</dt>\n",
       "                <dd><code>local[*]</code></dd>\n",
       "              <dt>AppName</dt>\n",
       "                <dd><code>ss1</code></dd>\n",
       "            </dl>\n",
       "        </div>\n",
       "        \n",
       "            </div>\n",
       "        "
      ],
      "text/plain": [
       "<pyspark.sql.session.SparkSession at 0x1ca3d6d7ad0>"
      ]
     },
     "execution_count": 5,
     "metadata": {},
     "output_type": "execute_result"
    }
   ],
   "source": [
    "spark"
   ]
  },
  {
   "cell_type": "code",
   "execution_count": 6,
   "metadata": {},
   "outputs": [],
   "source": [
    "# dir(spark.read), help(spark.read)\n",
    "# df_spark = spark.read.csv(\"test1.csv\")\n",
    "df_spark = spark.read.csv(\"test1.csv\",header= True, inferSchema=True)"
   ]
  },
  {
   "cell_type": "code",
   "execution_count": 7,
   "metadata": {},
   "outputs": [
    {
     "name": "stdout",
     "output_type": "stream",
     "text": [
      "+----------------+----+----------+\n",
      "|            Name| Age|Experience|\n",
      "+----------------+----+----------+\n",
      "|    Milana Parks|  30|         7|\n",
      "|    Bodie Barton|  22|        12|\n",
      "|    Foster Weeks|  45|         3|\n",
      "|   Joshua Meyers|NULL|        22|\n",
      "|     Rayna Ortiz|NULL|      NULL|\n",
      "|            NULL|NULL|      NULL|\n",
      "|            NULL|  99|      NULL|\n",
      "|Paxton Velasquez|NULL|         8|\n",
      "+----------------+----+----------+\n",
      "\n"
     ]
    }
   ],
   "source": [
    "df_spark.show()"
   ]
  },
  {
   "cell_type": "code",
   "execution_count": 8,
   "metadata": {},
   "outputs": [
    {
     "data": {
      "text/plain": [
       "[Row(Name='Milana Parks', Age=30, Experience=7),\n",
       " Row(Name='Bodie Barton', Age=22, Experience=12),\n",
       " Row(Name='Foster Weeks', Age=45, Experience=3),\n",
       " Row(Name='Joshua Meyers', Age=None, Experience=22),\n",
       " Row(Name='Rayna Ortiz', Age=None, Experience=None)]"
      ]
     },
     "execution_count": 8,
     "metadata": {},
     "output_type": "execute_result"
    }
   ],
   "source": [
    "df_spark.head(5)"
   ]
  },
  {
   "cell_type": "code",
   "execution_count": 9,
   "metadata": {},
   "outputs": [
    {
     "name": "stdout",
     "output_type": "stream",
     "text": [
      "root\n",
      " |-- Name: string (nullable = true)\n",
      " |-- Age: integer (nullable = true)\n",
      " |-- Experience: integer (nullable = true)\n",
      "\n"
     ]
    }
   ],
   "source": [
    "df_spark.printSchema()"
   ]
  },
  {
   "cell_type": "code",
   "execution_count": 10,
   "metadata": {},
   "outputs": [
    {
     "data": {
      "text/plain": [
       "['Name', 'Age', 'Experience']"
      ]
     },
     "execution_count": 10,
     "metadata": {},
     "output_type": "execute_result"
    }
   ],
   "source": [
    "df_spark.columns"
   ]
  },
  {
   "cell_type": "code",
   "execution_count": 11,
   "metadata": {},
   "outputs": [
    {
     "name": "stdout",
     "output_type": "stream",
     "text": [
      "+----------------+----+\n",
      "|            Name| Age|\n",
      "+----------------+----+\n",
      "|    Milana Parks|  30|\n",
      "|    Bodie Barton|  22|\n",
      "|    Foster Weeks|  45|\n",
      "|   Joshua Meyers|NULL|\n",
      "|     Rayna Ortiz|NULL|\n",
      "|            NULL|NULL|\n",
      "|            NULL|  99|\n",
      "|Paxton Velasquez|NULL|\n",
      "+----------------+----+\n",
      "\n"
     ]
    }
   ],
   "source": [
    "# df_spark.select(\"Name\",\"Age\")\n",
    "df_spark[[\"Name\", \"Age\"]].show()"
   ]
  },
  {
   "cell_type": "code",
   "execution_count": 12,
   "metadata": {},
   "outputs": [
    {
     "name": "stdout",
     "output_type": "stream",
     "text": [
      "+-------+------------+-----------------+-----------------+\n",
      "|summary|        Name|              Age|       Experience|\n",
      "+-------+------------+-----------------+-----------------+\n",
      "|  count|           6|                4|                5|\n",
      "|   mean|        NULL|             49.0|             10.4|\n",
      "| stddev|        NULL|34.66987164671943|7.231873892705818|\n",
      "|    min|Bodie Barton|               22|                3|\n",
      "|    25%|        NULL|               22|                7|\n",
      "|    50%|        NULL|               30|                8|\n",
      "|    75%|        NULL|               45|               12|\n",
      "|    max| Rayna Ortiz|               99|               22|\n",
      "+-------+------------+-----------------+-----------------+\n",
      "\n"
     ]
    }
   ],
   "source": [
    "df_spark.summary().show()"
   ]
  },
  {
   "cell_type": "code",
   "execution_count": 13,
   "metadata": {},
   "outputs": [
    {
     "name": "stdout",
     "output_type": "stream",
     "text": [
      "+-------+------------+-----------------+-----------------+\n",
      "|summary|        Name|              Age|       Experience|\n",
      "+-------+------------+-----------------+-----------------+\n",
      "|  count|           6|                4|                5|\n",
      "|   mean|        NULL|             49.0|             10.4|\n",
      "| stddev|        NULL|34.66987164671943|7.231873892705818|\n",
      "|    min|Bodie Barton|               22|                3|\n",
      "|    max| Rayna Ortiz|               99|               22|\n",
      "+-------+------------+-----------------+-----------------+\n",
      "\n"
     ]
    }
   ],
   "source": [
    "df_spark.describe().show()"
   ]
  },
  {
   "cell_type": "code",
   "execution_count": 14,
   "metadata": {},
   "outputs": [
    {
     "data": {
      "text/plain": [
       "[('Name', 'string'), ('Age', 'int'), ('Experience', 'int')]"
      ]
     },
     "execution_count": 14,
     "metadata": {},
     "output_type": "execute_result"
    }
   ],
   "source": [
    "df_spark.dtypes"
   ]
  },
  {
   "cell_type": "code",
   "execution_count": 15,
   "metadata": {},
   "outputs": [
    {
     "name": "stdout",
     "output_type": "stream",
     "text": [
      "+----------------+----+----------+-----------------+\n",
      "|            Name| Age|Experience|Exp_After_2_Years|\n",
      "+----------------+----+----------+-----------------+\n",
      "|    Milana Parks|  30|         7|                9|\n",
      "|    Bodie Barton|  22|        12|               14|\n",
      "|    Foster Weeks|  45|         3|                5|\n",
      "|   Joshua Meyers|NULL|        22|               24|\n",
      "|     Rayna Ortiz|NULL|      NULL|             NULL|\n",
      "|            NULL|NULL|      NULL|             NULL|\n",
      "|            NULL|  99|      NULL|             NULL|\n",
      "|Paxton Velasquez|NULL|         8|               10|\n",
      "+----------------+----+----------+-----------------+\n",
      "\n"
     ]
    }
   ],
   "source": [
    "# create new column, returns a copy\n",
    "df_spark.withColumn(\"Exp_After_2_Years\",df_spark[\"Experience\"]+2).show()"
   ]
  },
  {
   "cell_type": "code",
   "execution_count": 16,
   "metadata": {},
   "outputs": [
    {
     "name": "stdout",
     "output_type": "stream",
     "text": [
      "+----------------+----+------+\n",
      "|       Full_Name| Age|Exprnc|\n",
      "+----------------+----+------+\n",
      "|    Milana Parks|  30|     7|\n",
      "|    Bodie Barton|  22|    12|\n",
      "|    Foster Weeks|  45|     3|\n",
      "|   Joshua Meyers|NULL|    22|\n",
      "|     Rayna Ortiz|NULL|  NULL|\n",
      "|            NULL|NULL|  NULL|\n",
      "|            NULL|  99|  NULL|\n",
      "|Paxton Velasquez|NULL|     8|\n",
      "+----------------+----+------+\n",
      "\n"
     ]
    }
   ],
   "source": [
    "# Renaming Columns, returns a copy\n",
    "df_spark.withColumnsRenamed({'Name': 'Full_Name', 'Experience': 'Exprnc'}).show()"
   ]
  },
  {
   "cell_type": "code",
   "execution_count": 17,
   "metadata": {},
   "outputs": [
    {
     "name": "stdout",
     "output_type": "stream",
     "text": [
      "+------------+---+----------+\n",
      "|        Name|Age|Experience|\n",
      "+------------+---+----------+\n",
      "|Milana Parks| 30|         7|\n",
      "|Bodie Barton| 22|        12|\n",
      "|Foster Weeks| 45|         3|\n",
      "+------------+---+----------+\n",
      "\n"
     ]
    }
   ],
   "source": [
    "# drop NaN values\n",
    "df_spark.na.drop().show()"
   ]
  },
  {
   "cell_type": "code",
   "execution_count": 18,
   "metadata": {},
   "outputs": [
    {
     "name": "stdout",
     "output_type": "stream",
     "text": [
      "+----------------+----+----------+\n",
      "|            Name| Age|Experience|\n",
      "+----------------+----+----------+\n",
      "|    Milana Parks|  30|         7|\n",
      "|    Bodie Barton|  22|        12|\n",
      "|    Foster Weeks|  45|         3|\n",
      "|   Joshua Meyers|NULL|        22|\n",
      "|     Rayna Ortiz|NULL|      NULL|\n",
      "|            NULL|  99|      NULL|\n",
      "|Paxton Velasquez|NULL|         8|\n",
      "+----------------+----+----------+\n",
      "\n"
     ]
    }
   ],
   "source": [
    "df_spark.na.drop(how=\"all\").show()"
   ]
  },
  {
   "cell_type": "code",
   "execution_count": 19,
   "metadata": {},
   "outputs": [
    {
     "name": "stdout",
     "output_type": "stream",
     "text": [
      "+----------------+----+----------+\n",
      "|            Name| Age|Experience|\n",
      "+----------------+----+----------+\n",
      "|    Milana Parks|  30|         7|\n",
      "|    Bodie Barton|  22|        12|\n",
      "|    Foster Weeks|  45|         3|\n",
      "|   Joshua Meyers|NULL|        22|\n",
      "|     Rayna Ortiz|NULL|      NULL|\n",
      "|            NULL|  99|      NULL|\n",
      "|Paxton Velasquez|NULL|         8|\n",
      "+----------------+----+----------+\n",
      "\n"
     ]
    }
   ],
   "source": [
    "# defullt: how=\"any\"\n",
    "df_spark.na.drop(how=\"all\").show()"
   ]
  },
  {
   "cell_type": "code",
   "execution_count": 20,
   "metadata": {},
   "outputs": [
    {
     "name": "stdout",
     "output_type": "stream",
     "text": [
      "+----------------+----+----------+\n",
      "|            Name| Age|Experience|\n",
      "+----------------+----+----------+\n",
      "|    Milana Parks|  30|         7|\n",
      "|    Bodie Barton|  22|        12|\n",
      "|    Foster Weeks|  45|         3|\n",
      "|   Joshua Meyers|NULL|        22|\n",
      "|Paxton Velasquez|NULL|         8|\n",
      "+----------------+----+----------+\n",
      "\n"
     ]
    }
   ],
   "source": [
    "# drop rows that don't have at least #thresh non-null values\n",
    "# overwrites how\n",
    "df_spark.na.drop(thresh=2).show()"
   ]
  },
  {
   "cell_type": "code",
   "execution_count": 21,
   "metadata": {},
   "outputs": [
    {
     "name": "stdout",
     "output_type": "stream",
     "text": [
      "+----------------+----+----------+\n",
      "|            Name| Age|Experience|\n",
      "+----------------+----+----------+\n",
      "|    Milana Parks|  30|         7|\n",
      "|    Bodie Barton|  22|        12|\n",
      "|    Foster Weeks|  45|         3|\n",
      "|   Joshua Meyers|NULL|        22|\n",
      "|     Rayna Ortiz|NULL|      NULL|\n",
      "|Paxton Velasquez|NULL|         8|\n",
      "+----------------+----+----------+\n",
      "\n"
     ]
    }
   ],
   "source": [
    "df_spark.na.drop(how=\"all\",subset=[\"Name\",\"Experience\"]).show()"
   ]
  },
  {
   "cell_type": "code",
   "execution_count": 22,
   "metadata": {},
   "outputs": [
    {
     "name": "stdout",
     "output_type": "stream",
     "text": [
      "+----------------+---+----------+\n",
      "|            Name|Age|Experience|\n",
      "+----------------+---+----------+\n",
      "|    Milana Parks| 30|         7|\n",
      "|    Bodie Barton| 22|        12|\n",
      "|    Foster Weeks| 45|         3|\n",
      "|   Joshua Meyers|  0|        22|\n",
      "|     Rayna Ortiz|  0|         0|\n",
      "|            NULL|  0|         0|\n",
      "|            NULL| 99|         0|\n",
      "|Paxton Velasquez|  0|         8|\n",
      "+----------------+---+----------+\n",
      "\n"
     ]
    }
   ],
   "source": [
    "# subsets must be of similar types\n",
    "df_spark.na.fill(0, subset=[\"Age\", \"Experience\"]).show()"
   ]
  },
  {
   "cell_type": "code",
   "execution_count": 23,
   "metadata": {},
   "outputs": [
    {
     "name": "stdout",
     "output_type": "stream",
     "text": [
      "+----------------+---+----------+\n",
      "|            Name|Age|Experience|\n",
      "+----------------+---+----------+\n",
      "|    Milana Parks| 30|         7|\n",
      "|    Bodie Barton| 22|        12|\n",
      "|    Foster Weeks| 45|         3|\n",
      "|   Joshua Meyers|  0|        22|\n",
      "|     Rayna Ortiz|  0|      NULL|\n",
      "|         Unknown|  0|      NULL|\n",
      "|         Unknown| 99|      NULL|\n",
      "|Paxton Velasquez|  0|         8|\n",
      "+----------------+---+----------+\n",
      "\n"
     ]
    }
   ],
   "source": [
    "df_spark.na.fill({\"name\": \"Unknown\", \"age\": 0}).show()"
   ]
  },
  {
   "cell_type": "code",
   "execution_count": 24,
   "metadata": {},
   "outputs": [
    {
     "name": "stdout",
     "output_type": "stream",
     "text": [
      "+----------------+----+----------+----+-----------+\n",
      "|            Name| Age|Experience|Age_|Experience_|\n",
      "+----------------+----+----------+----+-----------+\n",
      "|    Milana Parks|  30|         7|  30|          7|\n",
      "|    Bodie Barton|  22|        12|  22|         12|\n",
      "|    Foster Weeks|  45|         3|  45|          3|\n",
      "|   Joshua Meyers|NULL|        22|  49|         22|\n",
      "|     Rayna Ortiz|NULL|      NULL|  49|         10|\n",
      "|            NULL|NULL|      NULL|  49|         10|\n",
      "|            NULL|  99|      NULL|  99|         10|\n",
      "|Paxton Velasquez|NULL|         8|  49|          8|\n",
      "+----------------+----+----------+----+-----------+\n",
      "\n"
     ]
    }
   ],
   "source": [
    "columns = [\"Age\", \"Experience\"]\n",
    "imputer = Imputer(inputCols=columns, outputCols=[f\"{i}_\" for i in columns])\n",
    "imputer.setStrategy(\"mean\").fit(df_spark).transform(df_spark).show()"
   ]
  },
  {
   "cell_type": "code",
   "execution_count": 25,
   "metadata": {},
   "outputs": [],
   "source": [
    "spark.stop()"
   ]
  }
 ],
 "metadata": {
  "kernelspec": {
   "display_name": "Python 3",
   "language": "python",
   "name": "python3"
  },
  "language_info": {
   "codemirror_mode": {
    "name": "ipython",
    "version": 3
   },
   "file_extension": ".py",
   "mimetype": "text/x-python",
   "name": "python",
   "nbconvert_exporter": "python",
   "pygments_lexer": "ipython3",
   "version": "3.12.0"
  }
 },
 "nbformat": 4,
 "nbformat_minor": 2
}
